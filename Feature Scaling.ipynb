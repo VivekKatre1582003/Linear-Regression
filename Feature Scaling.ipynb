{
 "cells": [
  {
   "cell_type": "code",
   "execution_count": 1,
   "id": "0b3e5729-9369-42b9-9ca3-0708339f5e30",
   "metadata": {},
   "outputs": [],
   "source": [
    "import numpy as np\n",
    "from sklearn import preprocessing"
   ]
  },
  {
   "cell_type": "code",
   "execution_count": 2,
   "id": "e6ae5907-6cb6-4dce-a7d2-3ee0712c4127",
   "metadata": {},
   "outputs": [],
   "source": [
    "x = np.array([[1.,-1., 2.],[2., 0., 0.],[0., 1., -1.]])"
   ]
  },
  {
   "cell_type": "code",
   "execution_count": 4,
   "id": "44e47e42-1b28-4fe7-a108-83cea07950b2",
   "metadata": {},
   "outputs": [],
   "source": [
    "x_scaled = preprocessing.scale(x)    #it makes mean to be 0 and variance to be 1 .... centres data towards centre"
   ]
  },
  {
   "cell_type": "code",
   "execution_count": 5,
   "id": "3d06b2ee-457d-4732-a414-b4390128b880",
   "metadata": {},
   "outputs": [
    {
     "data": {
      "text/plain": [
       "array([0., 0., 0.])"
      ]
     },
     "execution_count": 5,
     "metadata": {},
     "output_type": "execute_result"
    }
   ],
   "source": [
    "x_scaled.mean(axis=0)"
   ]
  },
  {
   "cell_type": "code",
   "execution_count": 6,
   "id": "53ab9ecb-f081-4aa4-be96-5886749b200c",
   "metadata": {},
   "outputs": [
    {
     "data": {
      "text/plain": [
       "array([1., 1., 1.])"
      ]
     },
     "execution_count": 6,
     "metadata": {},
     "output_type": "execute_result"
    }
   ],
   "source": [
    "x_scaled.std(axis=0)"
   ]
  },
  {
   "cell_type": "markdown",
   "id": "7083ddd2-c9e0-4ab8-a3c4-c1821b498719",
   "metadata": {},
   "source": [
    "Limitations of scale function:\n",
    "1. Assumes normal distribution.\r",
    "2. \n",
    "Sensitive to outliers.3. \r\n",
    "Loss of interpretability4. .\r\n",
    "Inefficient with sparse dat5. a.\r\n",
    "Modifies original da6. ta.\r\n",
    "Limited to numeric d7. ata.\r\n",
    "Requires manual tuning of parameters."
   ]
  },
  {
   "cell_type": "code",
   "execution_count": 7,
   "id": "0f13f8b9-d43e-4e63-808c-da924db913f8",
   "metadata": {},
   "outputs": [
    {
     "data": {
      "text/plain": [
       "array([[ 0.        , -1.22474487,  1.33630621],\n",
       "       [ 1.22474487,  0.        , -0.26726124],\n",
       "       [-1.22474487,  1.22474487, -1.06904497]])"
      ]
     },
     "execution_count": 7,
     "metadata": {},
     "output_type": "execute_result"
    }
   ],
   "source": [
    "scaler = preprocessing.StandardScaler()\n",
    "scaler.fit(x)\n",
    "\n",
    "scaler.transform(x)"
   ]
  },
  {
   "cell_type": "code",
   "execution_count": 9,
   "id": "3af4fcd8-45b1-4689-b001-b10199246e65",
   "metadata": {},
   "outputs": [
    {
     "data": {
      "text/plain": [
       "array([[ 0.        ,  1.22474487, -0.26726124]])"
      ]
     },
     "execution_count": 9,
     "metadata": {},
     "output_type": "execute_result"
    }
   ],
   "source": [
    "x_test = [[1,1,0]]\n",
    "scaler.transform(x_test)\n",
    "#it scales this testing data on the basis of our training data x"
   ]
  },
  {
   "cell_type": "code",
   "execution_count": null,
   "id": "5c475a8f-b698-435e-b357-21b8f392efdf",
   "metadata": {},
   "outputs": [],
   "source": []
  }
 ],
 "metadata": {
  "kernelspec": {
   "display_name": "Python 3 (ipykernel)",
   "language": "python",
   "name": "python3"
  },
  "language_info": {
   "codemirror_mode": {
    "name": "ipython",
    "version": 3
   },
   "file_extension": ".py",
   "mimetype": "text/x-python",
   "name": "python",
   "nbconvert_exporter": "python",
   "pygments_lexer": "ipython3",
   "version": "3.10.9"
  }
 },
 "nbformat": 4,
 "nbformat_minor": 5
}
