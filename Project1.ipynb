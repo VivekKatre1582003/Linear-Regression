{
 "cells": [
  {
   "cell_type": "code",
   "execution_count": 3,
   "id": "1bc45ca9-2c96-45c8-8323-e5293b9890c2",
   "metadata": {},
   "outputs": [],
   "source": [
    "import pandas as pd\n",
    "import numpy as np\n",
    "import matplotlib.pyplot as plt\n",
    "%matplotlib inline"
   ]
  },
  {
   "cell_type": "code",
   "execution_count": 4,
   "id": "38002052-6ac3-403c-ac93-cbdcce12cfbb",
   "metadata": {},
   "outputs": [],
   "source": [
    "df = pd.read_csv('hw.csv')"
   ]
  },
  {
   "cell_type": "code",
   "execution_count": 5,
   "id": "0ac89cc3-422e-43db-81ba-a69f78baa734",
   "metadata": {},
   "outputs": [
    {
     "data": {
      "text/html": [
       "<div>\n",
       "<style scoped>\n",
       "    .dataframe tbody tr th:only-of-type {\n",
       "        vertical-align: middle;\n",
       "    }\n",
       "\n",
       "    .dataframe tbody tr th {\n",
       "        vertical-align: top;\n",
       "    }\n",
       "\n",
       "    .dataframe thead th {\n",
       "        text-align: right;\n",
       "    }\n",
       "</style>\n",
       "<table border=\"1\" class=\"dataframe\">\n",
       "  <thead>\n",
       "    <tr style=\"text-align: right;\">\n",
       "      <th></th>\n",
       "      <th>Height</th>\n",
       "      <th>Weight</th>\n",
       "    </tr>\n",
       "  </thead>\n",
       "  <tbody>\n",
       "    <tr>\n",
       "      <th>0</th>\n",
       "      <td>111</td>\n",
       "      <td>11</td>\n",
       "    </tr>\n",
       "    <tr>\n",
       "      <th>1</th>\n",
       "      <td>112</td>\n",
       "      <td>15</td>\n",
       "    </tr>\n",
       "    <tr>\n",
       "      <th>2</th>\n",
       "      <td>123</td>\n",
       "      <td>17</td>\n",
       "    </tr>\n",
       "    <tr>\n",
       "      <th>3</th>\n",
       "      <td>124</td>\n",
       "      <td>20</td>\n",
       "    </tr>\n",
       "    <tr>\n",
       "      <th>4</th>\n",
       "      <td>125</td>\n",
       "      <td>25</td>\n",
       "    </tr>\n",
       "    <tr>\n",
       "      <th>5</th>\n",
       "      <td>134</td>\n",
       "      <td>27</td>\n",
       "    </tr>\n",
       "    <tr>\n",
       "      <th>6</th>\n",
       "      <td>135</td>\n",
       "      <td>29</td>\n",
       "    </tr>\n",
       "    <tr>\n",
       "      <th>7</th>\n",
       "      <td>145</td>\n",
       "      <td>30</td>\n",
       "    </tr>\n",
       "    <tr>\n",
       "      <th>8</th>\n",
       "      <td>156</td>\n",
       "      <td>32</td>\n",
       "    </tr>\n",
       "    <tr>\n",
       "      <th>9</th>\n",
       "      <td>156</td>\n",
       "      <td>35</td>\n",
       "    </tr>\n",
       "    <tr>\n",
       "      <th>10</th>\n",
       "      <td>157</td>\n",
       "      <td>38</td>\n",
       "    </tr>\n",
       "    <tr>\n",
       "      <th>11</th>\n",
       "      <td>167</td>\n",
       "      <td>40</td>\n",
       "    </tr>\n",
       "    <tr>\n",
       "      <th>12</th>\n",
       "      <td>168</td>\n",
       "      <td>43</td>\n",
       "    </tr>\n",
       "    <tr>\n",
       "      <th>13</th>\n",
       "      <td>178</td>\n",
       "      <td>45</td>\n",
       "    </tr>\n",
       "    <tr>\n",
       "      <th>14</th>\n",
       "      <td>179</td>\n",
       "      <td>48</td>\n",
       "    </tr>\n",
       "    <tr>\n",
       "      <th>15</th>\n",
       "      <td>189</td>\n",
       "      <td>50</td>\n",
       "    </tr>\n",
       "    <tr>\n",
       "      <th>16</th>\n",
       "      <td>190</td>\n",
       "      <td>55</td>\n",
       "    </tr>\n",
       "    <tr>\n",
       "      <th>17</th>\n",
       "      <td>191</td>\n",
       "      <td>58</td>\n",
       "    </tr>\n",
       "    <tr>\n",
       "      <th>18</th>\n",
       "      <td>192</td>\n",
       "      <td>59</td>\n",
       "    </tr>\n",
       "  </tbody>\n",
       "</table>\n",
       "</div>"
      ],
      "text/plain": [
       "    Height  Weight\n",
       "0      111      11\n",
       "1      112      15\n",
       "2      123      17\n",
       "3      124      20\n",
       "4      125      25\n",
       "5      134      27\n",
       "6      135      29\n",
       "7      145      30\n",
       "8      156      32\n",
       "9      156      35\n",
       "10     157      38\n",
       "11     167      40\n",
       "12     168      43\n",
       "13     178      45\n",
       "14     179      48\n",
       "15     189      50\n",
       "16     190      55\n",
       "17     191      58\n",
       "18     192      59"
      ]
     },
     "execution_count": 5,
     "metadata": {},
     "output_type": "execute_result"
    }
   ],
   "source": [
    "df"
   ]
  },
  {
   "cell_type": "code",
   "execution_count": 6,
   "id": "ad6b98cc-2919-4925-ba78-8d6d1ec95716",
   "metadata": {},
   "outputs": [
    {
     "data": {
      "text/plain": [
       "Text(0.5, 0, 'Weight')"
      ]
     },
     "execution_count": 6,
     "metadata": {},
     "output_type": "execute_result"
    },
    {
     "data": {
      "image/png": "[encoded data removed]",
      "text/plain": [
       "<Figure size 640x480 with 1 Axes>"
      ]
     },
     "metadata": {},
     "output_type": "display_data"
    }
   ],
   "source": [
    "plt.scatter(df['Weight'],df['Height'])\n",
    "plt.ylabel('Height')\n",
    "plt.xlabel('Weight')"
   ]
  },
  {
   "cell_type": "code",
   "execution_count": 7,
   "id": "6663072a-c454-4e22-ab6c-e34a0d22cd9d",
   "metadata": {},
   "outputs": [
    {
     "data": {
      "text/html": [
       "<div>\n",
       "<style scoped>\n",
       "    .dataframe tbody tr th:only-of-type {\n",
       "        vertical-align: middle;\n",
       "    }\n",
       "\n",
       "    .dataframe tbody tr th {\n",
       "        vertical-align: top;\n",
       "    }\n",
       "\n",
       "    .dataframe thead th {\n",
       "        text-align: right;\n",
       "    }\n",
       "</style>\n",
       "<table border=\"1\" class=\"dataframe\">\n",
       "  <thead>\n",
       "    <tr style=\"text-align: right;\">\n",
       "      <th></th>\n",
       "      <th>Height</th>\n",
       "      <th>Weight</th>\n",
       "    </tr>\n",
       "  </thead>\n",
       "  <tbody>\n",
       "    <tr>\n",
       "      <th>Height</th>\n",
       "      <td>1.000000</td>\n",
       "      <td>0.983582</td>\n",
       "    </tr>\n",
       "    <tr>\n",
       "      <th>Weight</th>\n",
       "      <td>0.983582</td>\n",
       "      <td>1.000000</td>\n",
       "    </tr>\n",
       "  </tbody>\n",
       "</table>\n",
       "</div>"
      ],
      "text/plain": [
       "          Height    Weight\n",
       "Height  1.000000  0.983582\n",
       "Weight  0.983582  1.000000"
      ]
     },
     "execution_count": 7,
     "metadata": {},
     "output_type": "execute_result"
    }
   ],
   "source": [
    "#Correlation\n",
    "df.corr()"
   ]
  },
  {
   "cell_type": "code",
   "execution_count": 8,
   "id": "f0c7d7a7-9d85-4d5d-b3ad-2d7114eb72ce",
   "metadata": {},
   "outputs": [
    {
     "data": {
      "text/plain": [
       "<seaborn.axisgrid.PairGrid at 0x19ef0f45690>"
      ]
     },
     "execution_count": 8,
     "metadata": {},
     "output_type": "execute_result"
    },
    {
     "data": {
      "image/png": "[encoded data removed]",
      "text/plain": [
       "<Figure size 500x500 with 6 Axes>"
      ]
     },
     "metadata": {},
     "output_type": "display_data"
    }
   ],
   "source": [
    "#Seaborn for Visualization\n",
    "import seaborn as sns\n",
    "sns.pairplot(df)"
   ]
  },
  {
   "cell_type": "code",
   "execution_count": 10,
   "id": "a99997ee-1f34-4f17-a6e4-946cc11a7236",
   "metadata": {},
   "outputs": [],
   "source": [
    "## Independent and Dependent features\n",
    "x = df[['Weight']] #independent features should be dataframe or 2 dimensional\n",
    "y = df['Height'] #This feature can be series or 1D array"
   ]
  },
  {
   "cell_type": "code",
   "execution_count": 15,
   "id": "3a887b65-a5c9-4277-8925-84452c1af9c6",
   "metadata": {},
   "outputs": [
    {
     "data": {
      "text/plain": [
       "(    Weight\n",
       " 16      55\n",
       " 3       20\n",
       " 13      45\n",
       " 15      50\n",
       " 17      58\n",
       " 2       17\n",
       " 9       35\n",
       " 18      59\n",
       " 4       25\n",
       " 12      43\n",
       " 7       30\n",
       " 10      38\n",
       " 14      48\n",
       " 6       29,\n",
       "     Weight\n",
       " 0       11\n",
       " 5       27\n",
       " 11      40\n",
       " 1       15\n",
       " 8       32,\n",
       " 16    190\n",
       " 3     124\n",
       " 13    178\n",
       " 15    189\n",
       " 17    191\n",
       " 2     123\n",
       " 9     156\n",
       " 18    192\n",
       " 4     125\n",
       " 12    168\n",
       " 7     145\n",
       " 10    157\n",
       " 14    179\n",
       " 6     135\n",
       " Name: Height, dtype: int64,\n",
       " 0     111\n",
       " 5     134\n",
       " 11    167\n",
       " 1     112\n",
       " 8     156\n",
       " Name: Height, dtype: int64)"
      ]
     },
     "execution_count": 15,
     "metadata": {},
     "output_type": "execute_result"
    }
   ],
   "source": [
    "from sklearn import model_selection\n",
    "x_train,x_test,y_train,y_test = model_selection.train_test_split(x,y,test_size = 0.25,random_state=42)\n",
    "x_train,x_test,y_train,y_test"
   ]
  },
  {
   "cell_type": "code",
   "execution_count": 16,
   "id": "53ead98e-6f86-455d-8c31-ddcf2864ef17",
   "metadata": {},
   "outputs": [
    {
     "data": {
      "text/plain": [
       "(14, 1)"
      ]
     },
     "execution_count": 16,
     "metadata": {},
     "output_type": "execute_result"
    }
   ],
   "source": [
    "x_train.shape"
   ]
  },
  {
   "cell_type": "code",
   "execution_count": 20,
   "id": "85d8d28f-8cc2-4556-a671-f08c8e2c1000",
   "metadata": {},
   "outputs": [],
   "source": [
    "##Standardization\n",
    "from sklearn.preprocessing import StandardScaler"
   ]
  },
  {
   "cell_type": "code",
   "execution_count": 22,
   "id": "45888083-d86e-433f-a4ce-adae12319e8e",
   "metadata": {},
   "outputs": [
    {
     "data": {
      "text/plain": [
       "array([[ 1.16353162],\n",
       "       [-1.45174588],\n",
       "       [ 0.41630948],\n",
       "       [ 0.78992055],\n",
       "       [ 1.38769826],\n",
       "       [-1.67591252],\n",
       "       [-0.33091266],\n",
       "       [ 1.46242048],\n",
       "       [-1.07813481],\n",
       "       [ 0.26686505],\n",
       "       [-0.70452373],\n",
       "       [-0.10674602],\n",
       "       [ 0.64047612],\n",
       "       [-0.77924595]])"
      ]
     },
     "execution_count": 22,
     "metadata": {},
     "output_type": "execute_result"
    }
   ],
   "source": [
    "scaler = StandardScaler()\n",
    "scaler.fit_transform(x_train)"
   ]
  },
  {
   "cell_type": "code",
   "execution_count": 25,
   "id": "bcfc4a32-6375-4cf0-af5d-958b9aec4340",
   "metadata": {},
   "outputs": [
    {
     "name": "stderr",
     "output_type": "stream",
     "text": [
      "C:\\Users\\victus\\anaconda3\\lib\\site-packages\\sklearn\\base.py:420: UserWarning: X does not have valid feature names, but StandardScaler was fitted with feature names\n",
      "  warnings.warn(\n"
     ]
    },
    {
     "data": {
      "text/plain": [
       "array([[-3.10491851],\n",
       "       [-3.01558396],\n",
       "       [-2.94299964],\n",
       "       [-3.08258487],\n",
       "       [-2.98766692]])"
      ]
     },
     "execution_count": 25,
     "metadata": {},
     "output_type": "execute_result"
    }
   ],
   "source": [
    "x_test = scaler.transform(x_test)\n",
    "x_test"
   ]
  },
  {
   "cell_type": "markdown",
   "id": "169b9b93-c33b-4f10-8039-264c2c5ce230",
   "metadata": {},
   "source": [
    "## fit_transform fits the transformer to the data and applies the transformation, while transform only applies a previously learned transformation to new data."
   ]
  },
  {
   "cell_type": "markdown",
   "id": "28a91e28-5cc1-4ee4-b421-415bc23a7f31",
   "metadata": {},
   "source": [
    "### Apply Linear Regression"
   ]
  },
  {
   "cell_type": "code",
   "execution_count": 30,
   "id": "b0667ef7-65d4-4246-b1fc-04866523a08d",
   "metadata": {},
   "outputs": [],
   "source": [
    "from sklearn.linear_model import LinearRegression\n",
    "regression = LinearRegression()"
   ]
  },
  {
   "cell_type": "code",
   "execution_count": 39,
   "id": "ae49b933-3871-4597-81d3-90e2c870ba2d",
   "metadata": {},
   "outputs": [],
   "source": [
    "alg = regression.fit(x_train,y_train)"
   ]
  },
  {
   "cell_type": "code",
   "execution_count": 40,
   "id": "dede5b75-eb33-43bf-a213-13f7b61ccc8c",
   "metadata": {},
   "outputs": [
    {
     "name": "stdout",
     "output_type": "stream",
     "text": [
      "Coefficient/Slope: [1.88474248]\n",
      "Intercept: 86.54443938012763\n"
     ]
    }
   ],
   "source": [
    "print(\"Coefficient/Slope:\",alg.coef_)\n",
    "print(\"Intercept:\",alg.intercept_)"
   ]
  },
  {
   "cell_type": "code",
   "execution_count": 44,
   "id": "0d6e2373-cbbc-402b-879d-74d139425a90",
   "metadata": {},
   "outputs": [
    {
     "data": {
      "text/plain": [
       "[<matplotlib.lines.Line2D at 0x19ef5fe2560>]"
      ]
     },
     "execution_count": 44,
     "metadata": {},
     "output_type": "execute_result"
    },
    {
     "data": {
      "image/png": "[encoded data removed]",
      "text/plain": [
       "<Figure size 640x480 with 1 Axes>"
      ]
     },
     "metadata": {},
     "output_type": "display_data"
    }
   ],
   "source": [
    "##Plot Best fit line w.r.t Train data\n",
    "plt.scatter(x_train,y_train)\n",
    "plt.plot(x_train,alg.predict(x_train))"
   ]
  },
  {
   "cell_type": "markdown",
   "id": "cce4b903-9495-4469-8d49-41a344f8bcba",
   "metadata": {},
   "source": [
    "1. Predicted height = intercept + coef(weights)\n",
    "2. y_pred = 86.54443938012763 + 1.88474248(x_test)"
   ]
  },
  {
   "cell_type": "code",
   "execution_count": 48,
   "id": "4b1a1185-9bef-4cd2-be99-8453498c60cd",
   "metadata": {},
   "outputs": [
    {
     "name": "stderr",
     "output_type": "stream",
     "text": [
      "C:\\Users\\victus\\anaconda3\\lib\\site-packages\\sklearn\\base.py:420: UserWarning: X does not have valid feature names, but LinearRegression was fitted with feature names\n",
      "  warnings.warn(\n"
     ]
    }
   ],
   "source": [
    "## Prediction for test data\n",
    "y_pred = alg.predict(x_test)\n"
   ]
  },
  {
   "cell_type": "code",
   "execution_count": 52,
   "id": "55016182-983c-406c-a35d-6499694d2a95",
   "metadata": {},
   "outputs": [
    {
     "name": "stdout",
     "output_type": "stream",
     "text": [
      "MSE : 3550.8477872606454\n",
      "MAE : 55.160206390869384\n",
      "Root Mean Squared Error : 59.588990487007294\n"
     ]
    }
   ],
   "source": [
    "## Performance Metrics\n",
    "from sklearn.metrics import mean_squared_error, mean_absolute_error\n",
    "mse = mean_squared_error(y_test,y_pred)\n",
    "mae = mean_absolute_error(y_test,y_pred)\n",
    "rmse = np.sqrt(mse)\n",
    "print(\"MSE :\",mse)\n",
    "print(\"MAE :\",mae)\n",
    "print(\"Root Mean Squared Error :\",rmse)"
   ]
  },
  {
   "cell_type": "markdown",
   "id": "6a4efb98-244f-4fb0-a320-8e8bbd3f7370",
   "metadata": {},
   "source": [
    "# R square error\n",
    "\n",
    "R-squared (R²) is a statistical measure that represents the proportion of the variance in the dependent variable (target variable) that is explained by the independent variables (features) in a regression model. It is often used as a metric to evaluate the goodness of fit of a regression model."
   ]
  },
  {
   "cell_type": "code",
   "execution_count": 53,
   "id": "cbaaa798-b498-486c-a834-d2eee73ee03b",
   "metadata": {},
   "outputs": [],
   "source": [
    "from sklearn.metrics import r2_score"
   ]
  },
  {
   "cell_type": "code",
   "execution_count": 55,
   "id": "12d4961b-4cf1-4bb2-8b23-677688b04ea5",
   "metadata": {},
   "outputs": [
    {
     "name": "stdout",
     "output_type": "stream",
     "text": [
      "R2 Score:  -5.919033100663768\n"
     ]
    }
   ],
   "source": [
    "score = r2_score(y_test,y_pred)\n",
    "print(\"R2 Score: \",score)"
   ]
  },
  {
   "cell_type": "code",
   "execution_count": 63,
   "id": "4cbd4225-2ad1-408d-a9f2-48c0a9e18653",
   "metadata": {},
   "outputs": [
    {
     "name": "stderr",
     "output_type": "stream",
     "text": [
      "C:\\Users\\victus\\anaconda3\\lib\\site-packages\\sklearn\\base.py:420: UserWarning: X does not have valid feature names, but StandardScaler was fitted with feature names\n",
      "  warnings.warn(\n",
      "C:\\Users\\victus\\anaconda3\\lib\\site-packages\\sklearn\\base.py:420: UserWarning: X does not have valid feature names, but LinearRegression was fitted with feature names\n",
      "  warnings.warn(\n"
     ]
    },
    {
     "data": {
      "text/plain": [
       "array([86.62491488])"
      ]
     },
     "execution_count": 63,
     "metadata": {},
     "output_type": "execute_result"
    }
   ],
   "source": [
    "## Prediction for new data\n",
    "alg.predict(scaler.transform([[40]]))           # It means a person which has weight of 40 kg has height 86.62cm      \n",
    "# Here scaler.transform([[40]]) standardize the input and predict a better prediction"
   ]
  },
  {
   "cell_type": "code",
   "execution_count": 64,
   "id": "1b1536da-7928-4343-b607-795f51330bed",
   "metadata": {},
   "outputs": [
    {
     "name": "stderr",
     "output_type": "stream",
     "text": [
      "C:\\Users\\victus\\anaconda3\\lib\\site-packages\\sklearn\\base.py:420: UserWarning: X does not have valid feature names, but StandardScaler was fitted with feature names\n",
      "  warnings.warn(\n",
      "C:\\Users\\victus\\anaconda3\\lib\\site-packages\\sklearn\\base.py:420: UserWarning: X does not have valid feature names, but LinearRegression was fitted with feature names\n",
      "  warnings.warn(\n"
     ]
    },
    {
     "data": {
      "text/plain": [
       "array([91.13154309])"
      ]
     },
     "execution_count": 64,
     "metadata": {},
     "output_type": "execute_result"
    }
   ],
   "source": [
    "alg.predict(scaler.transform([[72]])) "
   ]
  },
  {
   "cell_type": "code",
   "execution_count": null,
   "id": "339002c5-cdfb-4720-8394-ae9b365f4a4f",
   "metadata": {},
   "outputs": [],
   "source": []
  }
 ],
 "metadata": {
  "kernelspec": {
   "display_name": "Python 3 (ipykernel)",
   "language": "python",
   "name": "python3"
  },
  "language_info": {
   "codemirror_mode": {
    "name": "ipython",
    "version": 3
   },
   "file_extension": ".py",
   "mimetype": "text/x-python",
   "name": "python",
   "nbconvert_exporter": "python",
   "pygments_lexer": "ipython3",
   "version": "3.10.9"
  }
 },
 "nbformat": 4,
 "nbformat_minor": 5
}
