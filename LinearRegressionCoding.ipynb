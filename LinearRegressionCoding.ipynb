{
 "cells": [
  {
   "cell_type": "code",
   "execution_count": 1,
   "id": "c84e1b17-c7c7-4378-bb8d-31f26cebf293",
   "metadata": {},
   "outputs": [],
   "source": [
    "import numpy as np"
   ]
  },
  {
   "cell_type": "code",
   "execution_count": 3,
   "id": "051ae288-2808-4b28-84ef-853b000e5df7",
   "metadata": {},
   "outputs": [],
   "source": [
    "data = np.loadtxt(\"data.csv\" , delimiter=\",\")"
   ]
  },
  {
   "cell_type": "code",
   "execution_count": 4,
   "id": "a0d6dd91-60ae-4572-a42a-10438c79c55d",
   "metadata": {},
   "outputs": [
    {
     "data": {
      "text/plain": [
       "(100, 2)"
      ]
     },
     "execution_count": 4,
     "metadata": {},
     "output_type": "execute_result"
    }
   ],
   "source": [
    "data.shape"
   ]
  },
  {
   "cell_type": "code",
   "execution_count": 9,
   "id": "dd890694-23fd-4a16-93cb-f7956027afbe",
   "metadata": {},
   "outputs": [],
   "source": [
    "x = data[:,0]  # \":\" ---> all the rows , 0 ---> 0th column\n",
    "y = data[:,1]  # all the rows and first column"
   ]
  },
  {
   "cell_type": "code",
   "execution_count": 10,
   "id": "5cee4ee7-bbf4-4491-a80a-089c8d803649",
   "metadata": {},
   "outputs": [
    {
     "data": {
      "text/plain": [
       "(array([45.41973014, 62.99748075, 45.61864377, 55.80573336, 53.66093226,\n",
       "        44.49285588, 61.89622268, 60.26921439, 50.18638949, 53.69163957,\n",
       "        44.1640495 , 68.31936082, 35.67809389, 33.09383174, 39.55790122,\n",
       "        56.13038882, 57.50444762, 41.57564262, 46.2309665 , 33.86421497,\n",
       "        59.04974121, 56.9012147 , 57.5045333 , 50.55676015, 58.16454011,\n",
       "        25.12848465, 57.31000344, 32.50234527, 66.18981661, 54.28232871,\n",
       "        51.0887199 , 34.3331247 , 60.29732685, 37.67565486, 61.53035803,\n",
       "        65.41605175, 50.03017434, 41.18201611, 52.22399609, 41.37772653,\n",
       "        41.10268519, 48.10504169, 51.08863468, 42.43647694, 38.11982403,\n",
       "        57.36205213, 44.55560838, 52.37844622, 52.55001444, 35.56783005,\n",
       "        48.14985889, 51.84518691, 39.29956669, 36.93007661, 40.16689901,\n",
       "        48.95588857, 50.28283635, 38.81681754, 33.64470601, 63.61556125,\n",
       "        41.72067636, 70.34607562, 46.68222865, 44.21174175, 59.81320787,\n",
       "        62.49469743, 49.23976534, 56.86890066, 64.70713867, 50.03957594,\n",
       "        57.78822399, 45.44053073, 47.47563963, 36.43600951, 31.588117  ]),\n",
       " array([49.20388754, 52.21179669, 32.94047994, 46.73761941, 40.59953838,\n",
       "        47.48120861, 43.10782022, 44.68719623, 55.14218841, 38.00548801,\n",
       "        38.95476907, 43.31828263, 56.72720806, 32.66904376, 43.87061265,\n",
       "        59.37082201, 58.16847072, 55.0780959 , 68.76573427, 44.50253806,\n",
       "        50.07314563, 53.42680403, 54.35163488, 53.57507753, 50.13548549]),\n",
       " array([ 55.16567715, 115.2441528 ,  48.84715332,  79.55043668,\n",
       "         63.64239878,  86.64202032,  77.76848242,  70.25193442,\n",
       "         69.84760416,  85.66820315,  62.00892325,  97.91982104,\n",
       "         52.72173496,  50.71958891,  44.86249071,  85.49806778,\n",
       "         74.08413012,  51.39174408,  90.12357207,  52.72549438,\n",
       "         77.63418251,  80.20752314,  91.486778  ,  83.43207142,\n",
       "         96.76956643,  53.45439421,  95.45505292,  31.70700585,\n",
       "         83.87856466,  79.12064627,  69.58889785,  55.72348926,\n",
       "         97.37989686,  60.81024665,  62.5623823 , 118.5912173 ,\n",
       "         81.53699078,  61.68403752,  63.35879032,  79.10282968,\n",
       "         59.35885025,  75.3312423 ,  73.43464155,  76.61734128,\n",
       "         80.16627545,  95.53668685,  52.68298337,  86.09829121,\n",
       "         71.30087989,  41.4128853 ,  66.22495789,  75.38065167,\n",
       "         59.17148932,  55.23166089,  54.0840548 ,  60.72360244,\n",
       "         69.51050331,  56.87721319,  69.89968164,  95.22936602,\n",
       "         65.28088692, 104.25710159,  72.24725107,  73.68756432,\n",
       "         87.23092513,  86.52053844,  72.11183247,  83.14274979,\n",
       "         93.57611869,  85.23200734,  99.05141484,  66.58814441,\n",
       "         71.54663223,  62.12457082,  50.39267014]),\n",
       " array([ 84.74269781,  79.64197305,  67.17065577,  79.05240617,\n",
       "         65.56230126,  57.25181946,  57.81251298,  82.89250373,\n",
       "         78.21151827,  61.36690454,  44.84712424,  58.56982472,\n",
       "         81.43619216,  45.57058882,  61.4247098 ,  74.76556403,\n",
       "         75.39287043,  71.13972786, 114.85387123,  65.10171157,\n",
       "         82.90598149,  68.77759598,  82.47884676,  87.99445276,\n",
       "         59.10883927]))"
      ]
     },
     "execution_count": 10,
     "metadata": {},
     "output_type": "execute_result"
    }
   ],
   "source": [
    "from sklearn import model_selection\n",
    "x_train,x_test,y_train,y_test = model_selection.train_test_split(x,y)\n",
    "x_train,x_test,y_train,y_test"
   ]
  },
  {
   "cell_type": "code",
   "execution_count": 24,
   "id": "f22426a5-be8b-49c2-96df-9f7188d9fa75",
   "metadata": {},
   "outputs": [],
   "source": [
    "def fit(x_train,y_train):\n",
    "    m = ((x_train*y_train).mean()-(x_train*x_train).mean()-x_train.mean()*y_train.mean())/((x_train*x_train).mean()-x_train.mean()*x_train.mean())\n",
    "    c = y_train.mean()-m*x_train.mean()\n",
    "    return(m,c)"
   ]
  },
  {
   "cell_type": "code",
   "execution_count": 25,
   "id": "b5517826-25f5-490c-8fa4-bd700c3867ab",
   "metadata": {},
   "outputs": [],
   "source": [
    "def predict(x,m,c):\n",
    "    return m*x +c"
   ]
  },
  {
   "cell_type": "code",
   "execution_count": 26,
   "id": "07f6a129-7b51-4111-9d61-9037ca1e37dd",
   "metadata": {},
   "outputs": [],
   "source": [
    "def score(y_truth,y_pred):\n",
    "    u = ((y_truth-y_pred)**2).sum()\n",
    "    v = ((y_truth-y_truth.mean())**2).sum()\n",
    "    return 1 - v/u\n",
    "    "
   ]
  },
  {
   "cell_type": "code",
   "execution_count": 27,
   "id": "15db4e54-5cb5-442c-9efe-5040c6da644a",
   "metadata": {},
   "outputs": [],
   "source": [
    "def cost(x,y,m,c):\n",
    "    return (((y-m*x+c)**2).sum())"
   ]
  },
  {
   "cell_type": "code",
   "execution_count": 32,
   "id": "a7880a3c-7e9a-4373-a1cf-e45c6e578251",
   "metadata": {},
   "outputs": [
    {
     "name": "stdout",
     "output_type": "stream",
     "text": [
      "Test Score:  0.9949527501479092\n",
      "Train Score:  0.9952675387313181\n",
      "M ,C :  -23.32074588401848 1218.2589819670848\n",
      "Cost on training data :  449899931.5257946\n"
     ]
    }
   ],
   "source": [
    "m,c = fit(x_train,y_train)\n",
    "y_test_pred = predict(x_test,m,c)\n",
    "print(\"Test Score: \", score(y_test,y_test_pred))\n",
    "y_train_pred = predict(x_train,m,c)\n",
    "print(\"Train Score: \", score(y_train,y_train_pred))\n",
    "print(\"M ,C : \",m,c)\n",
    "print(\"Cost on training data : \",cost(x_train,y_train,m,c))"
   ]
  },
  {
   "cell_type": "code",
   "execution_count": null,
   "id": "a1b0a78f-e42d-4dc9-a5c9-f149fd5c257b",
   "metadata": {},
   "outputs": [],
   "source": []
  }
 ],
 "metadata": {
  "kernelspec": {
   "display_name": "Python 3 (ipykernel)",
   "language": "python",
   "name": "python3"
  },
  "language_info": {
   "codemirror_mode": {
    "name": "ipython",
    "version": 3
   },
   "file_extension": ".py",
   "mimetype": "text/x-python",
   "name": "python",
   "nbconvert_exporter": "python",
   "pygments_lexer": "ipython3",
   "version": "3.10.9"
  }
 },
 "nbformat": 4,
 "nbformat_minor": 5
}
